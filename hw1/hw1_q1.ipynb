{
 "cells": [
  {
   "cell_type": "code",
   "execution_count": 1,
   "id": "f7937ffd",
   "metadata": {},
   "outputs": [],
   "source": [
    "import os\n",
    "\n",
    "import pandas as pd\n",
    "import numpy as np\n",
    "import matplotlib.pyplot as plt\n",
    "%matplotlib inline\n",
    "\n",
    "import pyspark\n",
    "from pyspark.sql import *\n",
    "from pyspark.sql.functions import *\n",
    "from pyspark import SparkContext, SparkConf\n",
    "\n",
    "import itertools"
   ]
  },
  {
   "cell_type": "code",
   "execution_count": 2,
   "id": "940054c0",
   "metadata": {},
   "outputs": [
    {
     "name": "stderr",
     "output_type": "stream",
     "text": [
      "Using Spark's default log4j profile: org/apache/spark/log4j-defaults.properties\n",
      "Setting default log level to \"WARN\".\n",
      "To adjust logging level use sc.setLogLevel(newLevel). For SparkR, use setLogLevel(newLevel).\n",
      "23/01/18 15:53:14 WARN NativeCodeLoader: Unable to load native-hadoop library for your platform... using builtin-java classes where applicable\n"
     ]
    }
   ],
   "source": [
    "# create the session\n",
    "conf = SparkConf().set(\"spark.ui.port\", \"4050\")\n",
    "\n",
    "# create the context\n",
    "sc = pyspark.SparkContext(conf=conf)\n",
    "spark = SparkSession.builder.getOrCreate()"
   ]
  },
  {
   "cell_type": "code",
   "execution_count": 6,
   "id": "24f938b7",
   "metadata": {},
   "outputs": [],
   "source": [
    "#read text file\n",
    "lines = sc.textFile('q1/data/soc-LiveJournal1Adj.txt')"
   ]
  },
  {
   "cell_type": "code",
   "execution_count": 7,
   "id": "19195d89",
   "metadata": {},
   "outputs": [
    {
     "name": "stderr",
     "output_type": "stream",
     "text": [
      "                                                                                \r"
     ]
    },
    {
     "data": {
      "text/plain": [
       "['0\\t1,2,3,4,5,6,7,8,9,10,11,12,13,14,15,16,17,18,19,20,21,22,23,24,25,26,27,28,29,30,31,32,33,34,35,36,37,38,39,40,41,42,43,44,45,46,47,48,49,50,51,52,53,54,55,56,57,58,59,60,61,62,63,64,65,66,67,68,69,70,71,72,73,74,75,76,77,78,79,80,81,82,83,84,85,86,87,88,89,90,91,92,93,94']"
      ]
     },
     "execution_count": 7,
     "metadata": {},
     "output_type": "execute_result"
    }
   ],
   "source": [
    "lines.take(1)"
   ]
  },
  {
   "cell_type": "code",
   "execution_count": 8,
   "id": "a6229488",
   "metadata": {},
   "outputs": [],
   "source": [
    "def line_to_groups(line):\n",
    "    #parse line from txt to structure below\n",
    "    #eg. 0 /t 1,2,3 -> (0,[1,2,3])\n",
    "    \n",
    "    user = int(line.split()[0])\n",
    "    \n",
    "    if len(line.split()) == 1:\n",
    "        friends = []\n",
    "    else:\n",
    "        friends = list(map(lambda x: int(x), line.split()[1].split(',')))\n",
    "    \n",
    "    return user, friends"
   ]
  },
  {
   "cell_type": "code",
   "execution_count": 9,
   "id": "d6cb1c46",
   "metadata": {},
   "outputs": [],
   "source": [
    "groups = lines.map(line_to_groups)\n",
    "#groups.take(2)"
   ]
  },
  {
   "cell_type": "code",
   "execution_count": 10,
   "id": "c730c3d2",
   "metadata": {},
   "outputs": [],
   "source": [
    "def friend_ownership_to_connection(f_o):\n",
    "\n",
    "    user_id = f_o[0]\n",
    "    friends = f_o[1]\n",
    "\n",
    "    connections = []\n",
    "\n",
    "    for friend_id in friends:\n",
    "        key = (user_id, friend_id)\n",
    "        if user_id > friend_id:\n",
    "            key = (friend_id, user_id)\n",
    "\n",
    "        connections.append((key, 0))\n",
    "\n",
    "    for friend_pair in itertools.combinations(friends, 2):\n",
    "        friend_0 = friend_pair[0]\n",
    "        friend_1 = friend_pair[1]\n",
    "\n",
    "        key = (friend_0, friend_1)\n",
    "        if friend_0 > friend_1:\n",
    "            key = (friend_1, friend_0)\n",
    "        connections.append((key, 1))\n",
    "\n",
    "    return connections"
   ]
  },
  {
   "cell_type": "code",
   "execution_count": 11,
   "id": "26c31e07",
   "metadata": {},
   "outputs": [],
   "source": [
    "scores = groups.flatMap(friend_ownership_to_connection)"
   ]
  },
  {
   "cell_type": "code",
   "execution_count": 12,
   "id": "6934eb73",
   "metadata": {},
   "outputs": [
    {
     "data": {
      "text/plain": [
       "[((0, 1), 0),\n",
       " ((0, 2), 0),\n",
       " ((0, 3), 0),\n",
       " ((0, 4), 0),\n",
       " ((0, 5), 0),\n",
       " ((0, 6), 0),\n",
       " ((0, 7), 0),\n",
       " ((0, 8), 0),\n",
       " ((0, 9), 0),\n",
       " ((0, 10), 0)]"
      ]
     },
     "execution_count": 12,
     "metadata": {},
     "output_type": "execute_result"
    }
   ],
   "source": [
    "scores.take(10)"
   ]
  },
  {
   "cell_type": "code",
   "execution_count": 13,
   "id": "645c8563",
   "metadata": {},
   "outputs": [],
   "source": [
    "already_friends = scores.filter(lambda relationship: relationship[1] == 0)"
   ]
  },
  {
   "cell_type": "code",
   "execution_count": 14,
   "id": "55be02e1",
   "metadata": {},
   "outputs": [],
   "source": [
    "#filter out the already friends pairs\n",
    "mutual_friends_pairs = scores.subtractByKey(already_friends)"
   ]
  },
  {
   "cell_type": "code",
   "execution_count": 15,
   "id": "0c0049ca",
   "metadata": {},
   "outputs": [],
   "source": [
    "mutual_friends_counts = mutual_friends_pairs.reduceByKey(lambda x,y: x+y)"
   ]
  },
  {
   "cell_type": "code",
   "execution_count": 16,
   "id": "23531f5a",
   "metadata": {},
   "outputs": [
    {
     "name": "stderr",
     "output_type": "stream",
     "text": [
      "                                                                                \r"
     ]
    },
    {
     "data": {
      "text/plain": [
       "[((19083, 29251), 1),\n",
       " ((14581, 18585), 1),\n",
       " ((10, 16876), 1),\n",
       " ((1528, 40998), 1),\n",
       " ((35013, 42253), 1),\n",
       " ((168, 19150), 1),\n",
       " ((1220, 23922), 1),\n",
       " ((18309, 39825), 1),\n",
       " ((13928, 34986), 1),\n",
       " ((34290, 43728), 1)]"
      ]
     },
     "execution_count": 16,
     "metadata": {},
     "output_type": "execute_result"
    }
   ],
   "source": [
    "mutual_friends_counts.take(10)"
   ]
  },
  {
   "cell_type": "code",
   "execution_count": 17,
   "id": "4d2380a2",
   "metadata": {},
   "outputs": [],
   "source": [
    "def mutual_connection_score(y):\n",
    "    # assign score for both users \n",
    "    # eg.((8,16), 3) -> (8, (16,3)) (16, (8,3))\n",
    "    \n",
    "    pair = y[0]\n",
    "    score = y[1]\n",
    "\n",
    "    u0 = pair[0]\n",
    "    u1 = pair[1]\n",
    "\n",
    "    rec0 = (u0, (u1, score))\n",
    "    rec1 = (u1, (u0, score))\n",
    "    \n",
    "    return [rec0, rec1]"
   ]
  },
  {
   "cell_type": "code",
   "execution_count": 18,
   "id": "a813514e",
   "metadata": {},
   "outputs": [],
   "source": [
    "def recommend_10(recs):\n",
    "    #return a list of top 10 recs, for same scores, sort by user_id  \n",
    "    \n",
    "    #sort by the score (second value) descending, and user_id (first value) ascending\n",
    "    recs.sort(key=lambda x: (-x[1],x[0]))\n",
    "\n",
    "    #select only recommended users and return the first 10 \n",
    "    return list(map(lambda x: x[0], recs))[:10]"
   ]
  },
  {
   "cell_type": "code",
   "execution_count": 19,
   "id": "aaa9a9a0",
   "metadata": {},
   "outputs": [],
   "source": [
    "recommendations = mutual_friends_counts.flatMap(mutual_connection_score) \\\n",
    "    .groupByKey() \\\n",
    "    .map(lambda m: (m[0], recommend_10(list(m[1]))))"
   ]
  },
  {
   "cell_type": "code",
   "execution_count": 20,
   "id": "a4f91f33",
   "metadata": {},
   "outputs": [],
   "source": [
    "user_IDs = [924, 8941, 8942, 9019, 9020, 9021, 9022, 9990, 9992, 9993]"
   ]
  },
  {
   "cell_type": "code",
   "execution_count": 21,
   "id": "c87654f9",
   "metadata": {},
   "outputs": [
    {
     "name": "stderr",
     "output_type": "stream",
     "text": [
      "[Stage 6:============================================>              (3 + 1) / 4]\r"
     ]
    },
    {
     "name": "stdout",
     "output_type": "stream",
     "text": [
      "[(9021, [9020, 9016, 9017, 9022, 317, 9023])]\n"
     ]
    },
    {
     "name": "stderr",
     "output_type": "stream",
     "text": [
      "\r",
      "                                                                                \r"
     ]
    }
   ],
   "source": [
    "print(recommendations.filter(lambda x: x[0] == 9021).collect())"
   ]
  },
  {
   "cell_type": "code",
   "execution_count": 22,
   "id": "e41e065a",
   "metadata": {},
   "outputs": [
    {
     "name": "stderr",
     "output_type": "stream",
     "text": [
      "                                                                                \r"
     ]
    },
    {
     "name": "stdout",
     "output_type": "stream",
     "text": [
      "[(924, [439, 2409, 6995, 11860, 15416, 43748, 45881])]\n"
     ]
    },
    {
     "name": "stderr",
     "output_type": "stream",
     "text": [
      "                                                                                \r"
     ]
    },
    {
     "name": "stdout",
     "output_type": "stream",
     "text": [
      "[(8941, [8943, 8944, 8940])]\n"
     ]
    },
    {
     "name": "stderr",
     "output_type": "stream",
     "text": [
      "                                                                                \r"
     ]
    },
    {
     "name": "stdout",
     "output_type": "stream",
     "text": [
      "[(8942, [8939, 8940, 8943, 8944])]\n"
     ]
    },
    {
     "name": "stderr",
     "output_type": "stream",
     "text": [
      "                                                                                \r"
     ]
    },
    {
     "name": "stdout",
     "output_type": "stream",
     "text": [
      "[(9019, [9022, 317, 9023])]\n"
     ]
    },
    {
     "name": "stderr",
     "output_type": "stream",
     "text": [
      "                                                                                \r"
     ]
    },
    {
     "name": "stdout",
     "output_type": "stream",
     "text": [
      "[(9020, [9021, 9016, 9017, 9022, 317, 9023])]\n"
     ]
    },
    {
     "name": "stderr",
     "output_type": "stream",
     "text": [
      "                                                                                \r"
     ]
    },
    {
     "name": "stdout",
     "output_type": "stream",
     "text": [
      "[(9021, [9020, 9016, 9017, 9022, 317, 9023])]\n"
     ]
    },
    {
     "name": "stderr",
     "output_type": "stream",
     "text": [
      "                                                                                \r"
     ]
    },
    {
     "name": "stdout",
     "output_type": "stream",
     "text": [
      "[(9022, [9019, 9020, 9021, 317, 9016, 9017, 9023])]\n"
     ]
    },
    {
     "name": "stderr",
     "output_type": "stream",
     "text": [
      "                                                                                \r"
     ]
    },
    {
     "name": "stdout",
     "output_type": "stream",
     "text": [
      "[(9990, [13134, 13478, 13877, 34299, 34485, 34642, 37941])]\n"
     ]
    },
    {
     "name": "stderr",
     "output_type": "stream",
     "text": [
      "                                                                                \r"
     ]
    },
    {
     "name": "stdout",
     "output_type": "stream",
     "text": [
      "[(9992, [9987, 9989, 35667, 9991])]\n"
     ]
    },
    {
     "name": "stderr",
     "output_type": "stream",
     "text": [
      "[Stage 36:=============================>                            (2 + 2) / 4]\r"
     ]
    },
    {
     "name": "stdout",
     "output_type": "stream",
     "text": [
      "[(9993, [9991, 13134, 13478, 13877, 34299, 34485, 34642, 37941])]\n"
     ]
    },
    {
     "name": "stderr",
     "output_type": "stream",
     "text": [
      "\r",
      "                                                                                \r"
     ]
    }
   ],
   "source": [
    "for i in user_IDs:\n",
    "    print(recommendations.filter(lambda x: x[0] == i).collect())"
   ]
  },
  {
   "cell_type": "code",
   "execution_count": null,
   "id": "de80d2e8",
   "metadata": {},
   "outputs": [],
   "source": [
    "#recommendations.saveAsTextFile(\"test1.txt\")"
   ]
  }
 ],
 "metadata": {
  "kernelspec": {
   "display_name": "Python 3 (ipykernel)",
   "language": "python",
   "name": "python3"
  },
  "language_info": {
   "codemirror_mode": {
    "name": "ipython",
    "version": 3
   },
   "file_extension": ".py",
   "mimetype": "text/x-python",
   "name": "python",
   "nbconvert_exporter": "python",
   "pygments_lexer": "ipython3",
   "version": "3.9.15"
  }
 },
 "nbformat": 4,
 "nbformat_minor": 5
}
