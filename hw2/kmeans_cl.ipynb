{
 "cells": [
  {
   "cell_type": "code",
   "execution_count": 1,
   "id": "04b2e06b",
   "metadata": {},
   "outputs": [],
   "source": [
    "import pandas as pd\n",
    "import numpy as np\n",
    "import matplotlib.pyplot as plt\n",
    "%matplotlib inline\n",
    "\n",
    "import pyspark\n",
    "from pyspark.sql import *\n",
    "from pyspark.sql.functions import *\n",
    "from pyspark import SparkContext, SparkConf"
   ]
  },
  {
   "cell_type": "code",
   "execution_count": 2,
   "id": "50114717",
   "metadata": {},
   "outputs": [],
   "source": [
    "import seaborn as sns"
   ]
  },
  {
   "cell_type": "code",
   "execution_count": 33,
   "id": "652c26d6",
   "metadata": {},
   "outputs": [],
   "source": [
    "from numpy import linalg as LA"
   ]
  },
  {
   "cell_type": "code",
   "execution_count": 3,
   "id": "85bb503f",
   "metadata": {},
   "outputs": [
    {
     "name": "stderr",
     "output_type": "stream",
     "text": [
      "23/02/02 16:21:22 WARN Utils: Your hostname, Chus-MacBook-Pro.local resolves to a loopback address: 127.0.0.1; using 10.19.195.69 instead (on interface en0)\n",
      "23/02/02 16:21:22 WARN Utils: Set SPARK_LOCAL_IP if you need to bind to another address\n",
      "Using Spark's default log4j profile: org/apache/spark/log4j-defaults.properties\n",
      "Setting default log level to \"WARN\".\n",
      "To adjust logging level use sc.setLogLevel(newLevel). For SparkR, use setLogLevel(newLevel).\n",
      "23/02/02 16:21:23 WARN NativeCodeLoader: Unable to load native-hadoop library for your platform... using builtin-java classes where applicable\n"
     ]
    }
   ],
   "source": [
    "# create the session\n",
    "conf = SparkConf().set(\"spark.ui.port\", \"4050\")\n",
    "\n",
    "# create the context\n",
    "sc = pyspark.SparkContext(conf=conf)\n",
    "spark = SparkSession.builder.getOrCreate()"
   ]
  },
  {
   "cell_type": "code",
   "execution_count": 5,
   "id": "faae05dd",
   "metadata": {},
   "outputs": [],
   "source": [
    "def parseVector(line):\n",
    "    return np.array([float(x) for x in line.split(\" \")])"
   ]
  },
  {
   "cell_type": "code",
   "execution_count": 6,
   "id": "2b15383a",
   "metadata": {},
   "outputs": [],
   "source": [
    "data = spark.read.text('data/data.txt').rdd.map(lambda x: x[0]).map(parseVector)\n",
    "c1 = np.loadtxt('data/c1.txt', delimiter = ' ')\n",
    "c2 = np.loadtxt('data/c2.txt', delimiter = ' ')"
   ]
  },
  {
   "cell_type": "code",
   "execution_count": 7,
   "id": "6a01be6c",
   "metadata": {},
   "outputs": [],
   "source": [
    "#function for ecluidian distance\n",
    "def eludian_distance(a, b):\n",
    "    return np.sum((a - b) ** 2)"
   ]
  },
  {
   "cell_type": "code",
   "execution_count": 44,
   "id": "95f52e6b",
   "metadata": {},
   "outputs": [],
   "source": [
    "#fucntion for manhattan distance\n",
    "def manhattan_distance(a, b):\n",
    "    return LA.norm(a - b, ord=1)\n",
    "    # return np.sum(np.abs(a - b))"
   ]
  },
  {
   "cell_type": "code",
   "execution_count": 46,
   "id": "ae5bd444",
   "metadata": {},
   "outputs": [],
   "source": [
    "#function to parse vector\n",
    "def parseVector(line):\n",
    "    return np.array([float(x) for x in line.split(\" \")])"
   ]
  },
  {
   "cell_type": "code",
   "execution_count": 47,
   "id": "6693cea0",
   "metadata": {},
   "outputs": [],
   "source": [
    "#function for the closest centroid eludian distance or manhattan distance\n",
    "def closest_centroid(point, centroids, distance):\n",
    "    closest_i = -1\n",
    "    closest_dist = float(\"+inf\")\n",
    "    for i in range(len(centroids)):\n",
    "        temp_dist = distance(point, centroids[i])\n",
    "        if temp_dist < closest_dist:\n",
    "            closest_i = i\n",
    "            closest_dist = temp_dist\n",
    "    return closest_i, closest_dist"
   ]
  },
  {
   "cell_type": "code",
   "execution_count": 48,
   "id": "326ff607",
   "metadata": {},
   "outputs": [],
   "source": [
    "#function for kmeans that return the cost of each iteration\n",
    "def kmeans(data, centroids, distance, max_iter):\n",
    "    error_list = []\n",
    "    for i in range(max_iter):\n",
    "        #find the closest centroid for each point\n",
    "        closest = data.map(lambda p: (closest_centroid(p, centroids, distance)[0], (p, 1, closest_centroid(p, centroids, distance)[1])))\n",
    "        #calculate the new centroids\n",
    "        pointStats = closest.reduceByKey(lambda p1_c1, p2_c2: (p1_c1[0] + p2_c2[0], p1_c1[1] + p2_c2[1]))\n",
    "        newCentroids = pointStats.map(lambda st: (st[0], st[1][0] / st[1][1])).collect()\n",
    "        #calculate the error\n",
    "        error = closest.map(lambda p: distance(p[1][0], centroids[p[0]])).reduce(lambda x, y: x + y)\n",
    "        #append to the error list\n",
    "        error_list.append(error)\n",
    "        #store the new centroids back to the old centroids\n",
    "        for (k, v) in newCentroids:\n",
    "            centroids[k] = v\n",
    "    return error_list"
   ]
  },
  {
   "cell_type": "code",
   "execution_count": 12,
   "id": "9a8c4a95",
   "metadata": {},
   "outputs": [
    {
     "name": "stderr",
     "output_type": "stream",
     "text": [
      "                                                                                \r"
     ]
    },
    {
     "data": {
      "text/plain": [
       "460537847.98277014"
      ]
     },
     "execution_count": 12,
     "metadata": {},
     "output_type": "execute_result"
    }
   ],
   "source": [
    "#sanity check\n",
    "kmeans(data, c1.copy(), eludian_distance, 20)[5]"
   ]
  },
  {
   "cell_type": "code",
   "execution_count": 49,
   "id": "81de497c",
   "metadata": {},
   "outputs": [
    {
     "data": {
      "text/plain": [
       "487664.6926267901"
      ]
     },
     "execution_count": 49,
     "metadata": {},
     "output_type": "execute_result"
    }
   ],
   "source": [
    "kmeans(data, c1.copy(), manhattan_distance, 20)[5]"
   ]
  },
  {
   "cell_type": "code",
   "execution_count": 13,
   "id": "d48451dd",
   "metadata": {},
   "outputs": [],
   "source": [
    "c1_euclidean = kmeans(data, c1.copy(), eludian_distance, 21)\n",
    "c2_euclidean = kmeans(data, c2.copy(), eludian_distance, 21)"
   ]
  },
  {
   "cell_type": "code",
   "execution_count": 22,
   "id": "042cd596",
   "metadata": {},
   "outputs": [
    {
     "name": "stdout",
     "output_type": "stream",
     "text": [
      "The percentage of error reduction for c1 is:  26.484 %\n",
      "The percentage of error reduction for c2 is:  76.698 %\n"
     ]
    }
   ],
   "source": [
    "a = (c1_euclidean[0] - c1_euclidean[10]) / c1_euclidean[0]\n",
    "b = (c2_euclidean[0] - c2_euclidean[10]) / c2_euclidean[0]\n",
    "print (\"The percentage of error reduction for c1 is: \", (a*100).round(3), \"%\")\n",
    "print (\"The percentage of error reduction for c2 is: \", (b*100).round(4), \"%\")"
   ]
  },
  {
   "cell_type": "code",
   "execution_count": 187,
   "id": "9042d65d",
   "metadata": {},
   "outputs": [
    {
     "data": {
      "image/png": "[encoded data removed]",
      "text/plain": [
       "<Figure size 640x480 with 1 Axes>"
      ]
     },
     "metadata": {},
     "output_type": "display_data"
    },
    {
     "data": {
      "text/plain": [
       "<Figure size 640x480 with 0 Axes>"
      ]
     },
     "metadata": {},
     "output_type": "display_data"
    }
   ],
   "source": [
    "#seaborn plot c1_euclidean and c2_euclidean\n",
    "#seaborn style to white no grid\n",
    "#seaborn change color palette to contrasting colors 2\n",
    "sns.set_style(\"white\")\n",
    "sns.set_palette(\"Paired\")\n",
    "plt.plot(c1_euclidean, label = 'c1', linewidth = 3)\n",
    "plt.plot(c2_euclidean, label = 'c2', linewidth = 3)\n",
    "plt.xticks(np.arange(0, 21, 2))\n",
    "plt.legend()\n",
    "plt.xlabel('Iteration')\n",
    "#hide the top and right spines\n",
    "sns.despine()\n",
    "# add ticks to the left and bottom spines\n",
    "plt.tick_params(left = True, bottom = True)\n",
    "plt.ylabel('Cost')\n",
    "plt.title('K-means Euclidean Distance')\n",
    "plt.show()\n",
    "#save the plot, high resolution\n",
    "plt.savefig('kmeans_euclidean.png', dpi = 300)\n"
   ]
  },
  {
   "cell_type": "code",
   "execution_count": 24,
   "id": "f4870d5e",
   "metadata": {},
   "outputs": [],
   "source": [
    "c1_manhattan = kmeans(data, c1.copy(), manhattan_distance, 21)\n",
    "c2_manhattan = kmeans(data, c2.copy(), manhattan_distance, 21)"
   ]
  },
  {
   "cell_type": "code",
   "execution_count": 32,
   "id": "99547e17",
   "metadata": {},
   "outputs": [
    {
     "data": {
      "text/plain": [
       "487664.6926267901"
      ]
     },
     "execution_count": 32,
     "metadata": {},
     "output_type": "execute_result"
    }
   ],
   "source": [
    "c1_manhattan[5]"
   ]
  },
  {
   "cell_type": "code",
   "execution_count": 29,
   "id": "dd939ea3",
   "metadata": {},
   "outputs": [
    {
     "name": "stdout",
     "output_type": "stream",
     "text": [
      "The percentage of error reduction for c1 is:  18.655 %\n",
      "The percentage of error reduction for c2 is:  51.554 %\n"
     ]
    }
   ],
   "source": [
    "c = (c1_manhattan[0] - c1_manhattan[10]) / c1_manhattan[0]\n",
    "d = (c2_manhattan[0] - c2_manhattan[10]) / c2_manhattan[0]\n",
    "print (\"The percentage of error reduction for c1 is: \", (c*100).round(3), \"%\")\n",
    "print (\"The percentage of error reduction for c2 is: \", (d*100).round(3), \"%\")"
   ]
  },
  {
   "cell_type": "code",
   "execution_count": 27,
   "id": "5c0f7cc5",
   "metadata": {},
   "outputs": [
    {
     "data": {
      "image/png": "[encoded data removed]",
      "text/plain": [
       "<Figure size 640x480 with 1 Axes>"
      ]
     },
     "metadata": {},
     "output_type": "display_data"
    }
   ],
   "source": [
    "sns.set_style(\"white\")\n",
    "sns.set_palette(\"Paired\")\n",
    "plt.plot(c1_manhattan, label = 'c1', linewidth = 3)\n",
    "plt.plot(c2_manhattan, label = 'c2', linewidth = 3)\n",
    "#make x start from 0 and end at 22 with step 2\n",
    "plt.xticks(np.arange(0, 21, 2))\n",
    "plt.legend()\n",
    "plt.xlabel('Iteration')\n",
    "plt.ylabel('Cost')\n",
    "plt.title('K-means Mahattan Distance')\n",
    "# add ticks to the left and bottom spines\n",
    "sns.despine()\n",
    "plt.tick_params(left = True, bottom = True)\n",
    "plt.show()\n",
    "#save the plot, high resolution\n",
    "#plt.savefig('kmeans_manhattan.png', dpi = 300)\n"
   ]
  }
 ],
 "metadata": {
  "kernelspec": {
   "display_name": "cse-547",
   "language": "python",
   "name": "python3"
  },
  "language_info": {
   "codemirror_mode": {
    "name": "ipython",
    "version": 3
   },
   "file_extension": ".py",
   "mimetype": "text/x-python",
   "name": "python",
   "nbconvert_exporter": "python",
   "pygments_lexer": "ipython3",
   "version": "3.9.15"
  },
  "vscode": {
   "interpreter": {
    "hash": "09b722bedaded5aefdc596128eed2ab3855f4d8049469274745f5488bdca04bd"
   }
  }
 },
 "nbformat": 4,
 "nbformat_minor": 5
}
